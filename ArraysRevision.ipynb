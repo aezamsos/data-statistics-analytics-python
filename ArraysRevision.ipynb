{
  "nbformat": 4,
  "nbformat_minor": 0,
  "metadata": {
    "colab": {
      "provenance": [],
      "authorship_tag": "ABX9TyOHBORaRG6+020MDBtDDp4g",
      "include_colab_link": true
    },
    "kernelspec": {
      "name": "python3",
      "display_name": "Python 3"
    },
    "language_info": {
      "name": "python"
    }
  },
  "cells": [
    {
      "cell_type": "markdown",
      "metadata": {
        "id": "view-in-github",
        "colab_type": "text"
      },
      "source": [
        "<a href=\"https://colab.research.google.com/github/aezamsos/data-statistics-analytics-python/blob/main/ArraysRevision.ipynb\" target=\"_parent\"><img src=\"https://colab.research.google.com/assets/colab-badge.svg\" alt=\"Open In Colab\"/></a>"
      ]
    },
    {
      "cell_type": "code",
      "execution_count": null,
      "metadata": {
        "colab": {
          "base_uri": "https://localhost:8080/"
        },
        "id": "4don0bMJquf_",
        "outputId": "13180908-c2a7-4bd3-9903-72ffca4b5354"
      },
      "outputs": [
        {
          "output_type": "stream",
          "name": "stdout",
          "text": [
            "[1 2 3 4 5]\n",
            "[[0. 0. 0.]\n",
            " [0. 0. 0.]]\n",
            "[[1. 1. 1.]\n",
            " [1. 1. 1.]]\n",
            "[[2.99363342e-316 0.00000000e+000 6.75579800e-310]\n",
            " [1.92208698e+227 2.47938862e-091 5.51006653e-310]]\n",
            "[[0.81832009 0.54256735 0.94141532]\n",
            " [0.58424668 0.29894711 0.83240965]]\n"
          ]
        }
      ],
      "source": [
        "import numpy as np\n",
        "\n",
        "arr1 = np.array([1, 2, 3, 4, 5])\n",
        "zeros_arr = np.zeros((2, 3))\n",
        "ones_arr = np.ones((2, 3))\n",
        "empty_arr = np.empty((2, 3))\n",
        "random_arr = np.random.rand(2, 3)\n",
        "print(arr1)\n",
        "print(zeros_arr)\n",
        "print(ones_arr)\n",
        "print(empty_arr)\n",
        "\n",
        "random_arr = np.random.rand(2, 3)\n",
        "print(random_arr )\n",
        "identity_matrix = np.eye(3)"
      ]
    },
    {
      "cell_type": "code",
      "source": [
        "\n",
        "print(identity_matrix)\n",
        "# Array manipulation methods\n",
        "arr2 = np.array([6, 7, 8, 9, 10])\n",
        "\n",
        "# Concatenate arrays\n",
        "concatenated_arr = np.concatenate((arr1, arr2))\n",
        "print(\"Concatenated array:\", concatenated_arr)\n",
        "\n",
        "# Reshape array\n",
        "reshaped_arr = arr1.reshape(1, 5)\n",
        "print(\"Reshaped array:\", reshaped_arr)\n",
        "\n",
        "# Stack arrays vertically\n",
        "stacked_arr_v = np.vstack((arr1, arr2))\n",
        "print(\"Vertically stacked array:\", stacked_arr_v)\n",
        "\n",
        "# Stack arrays horizontally\n",
        "stacked_arr_h = np.hstack((arr1, arr2))\n",
        "print(\"Horizontally stacked array:\", stacked_arr_h)\n",
        "\n",
        "# Split array\n",
        "split_arr = np.split(arr1, 5)\n",
        "print(\"Split array:\", split_arr)\n",
        "\n",
        "# Append to array\n",
        "appended_arr = np.append(arr1, 6)\n",
        "print(\"Appended array:\", appended_arr)\n",
        "\n",
        "# Insert into array\n",
        "inserted_arr = np.insert(arr1, 2, 10)\n",
        "print(\"Inserted array:\", inserted_arr)\n",
        "\n",
        "# Delete from array\n",
        "deleted_arr = np.delete(arr1, 2)\n",
        "print(\"Deleted array:\", deleted_arr)\n",
        "\n",
        "# Unique elements\n",
        "unique_elements = np.unique(np.concatenate((arr1, arr1)))\n",
        "print(\"Unique elements:\", unique_elements)\n",
        "\n",
        "\n"
      ],
      "metadata": {
        "colab": {
          "base_uri": "https://localhost:8080/"
        },
        "id": "_J_NnJLotFGP",
        "outputId": "442777c2-134f-4139-afdf-4a81d73a47ac"
      },
      "execution_count": null,
      "outputs": [
        {
          "output_type": "stream",
          "name": "stdout",
          "text": [
            "[[1. 0. 0.]\n",
            " [0. 1. 0.]\n",
            " [0. 0. 1.]]\n",
            "Concatenated array: [ 1  2  3  4  5  6  7  8  9 10]\n",
            "Reshaped array: [[1 2 3 4 5]]\n",
            "Vertically stacked array: [[ 1  2  3  4  5]\n",
            " [ 6  7  8  9 10]]\n",
            "Horizontally stacked array: [ 1  2  3  4  5  6  7  8  9 10]\n",
            "Split array: [array([1]), array([2]), array([3]), array([4]), array([5])]\n",
            "Appended array: [1 2 3 4 5 6]\n",
            "Inserted array: [ 1  2 10  3  4  5]\n",
            "Deleted array: [1 2 4 5]\n",
            "Unique elements: [1 2 3 4 5]\n"
          ]
        }
      ]
    },
    {
      "cell_type": "code",
      "source": [
        "import numpy as np\n",
        "\n",
        "# Assuming arr1, arr2 from the previous code are defined\n",
        "\n",
        "# Element-wise addition\n",
        "added_arr = arr1 + arr2\n",
        "print(\"Element-wise addition:\", added_arr)\n",
        "\n",
        "# Element-wise subtraction\n",
        "subtracted_arr = arr1 - arr2\n",
        "print(\"Element-wise subtraction:\", subtracted_arr)\n",
        "\n",
        "# Element-wise multiplication\n",
        "multiplied_arr = arr1 * arr2\n",
        "print(\"Element-wise multiplication:\", multiplied_arr)\n",
        "\n",
        "# Element-wise division\n",
        "divided_arr = arr1 / arr2\n",
        "print(\"Element-wise division:\", divided_arr)\n",
        "\n",
        "# Dot product\n",
        "dot_product = np.dot(arr1, arr2)\n",
        "print(\"Dot product:\", dot_product)\n",
        "\n",
        "# Other mathematical operations\n",
        "print(\"Sum of elements in arr1:\", np.sum(arr1))\n",
        "print(\"Mean of elements in arr1:\", np.mean(arr1))\n",
        "print(\"Standard deviation of elements in arr1:\", np.std(arr1))\n",
        "print(\"Maximum element in arr1:\", np.max(arr1))\n",
        "print(\"Minimum element in arr1:\", np.min(arr1))\n",
        "\n",
        "sqrt_arr = np.sqrt(arr1)\n",
        "print(\"The square root of array 1\", arr1)\n",
        "\n",
        "#Example with 2D array\n",
        "arr3 = np.array([[1,2],[3,4]])\n",
        "arr4 = np.array([[5,6],[7,8]])\n",
        "print(\"Sum of all elements in arr3:\", np.sum(arr3))\n",
        "print(\"Sum of elements in each column of arr3:\", np.sum(arr3,axis=0))\n",
        "print(\"Sum of elements in each row of arr3:\", np.sum(arr3,axis=1))\n",
        "\n",
        "print(\"Matrix multiplication of arr3 and arr4\", np.dot(arr3,arr4))\n"
      ],
      "metadata": {
        "colab": {
          "base_uri": "https://localhost:8080/"
        },
        "id": "bmq6Ys99tOQ6",
        "outputId": "dee5f295-dc04-458e-8b71-0a110ad105da"
      },
      "execution_count": null,
      "outputs": [
        {
          "output_type": "stream",
          "name": "stdout",
          "text": [
            "Element-wise addition: [ 7  9 11 13 15]\n",
            "Element-wise subtraction: [-5 -5 -5 -5 -5]\n",
            "Element-wise multiplication: [ 6 14 24 36 50]\n",
            "Element-wise division: [0.16666667 0.28571429 0.375      0.44444444 0.5       ]\n",
            "Dot product: 130\n",
            "Sum of elements in arr1: 15\n",
            "Mean of elements in arr1: 3.0\n",
            "Standard deviation of elements in arr1: 1.4142135623730951\n",
            "Maximum element in arr1: 5\n",
            "Minimum element in arr1: 1\n",
            "The square root of array 1 [1 2 3 4 5]\n",
            "Sum of all elements in arr3: 10\n",
            "Sum of elements in each column of arr3: [4 6]\n",
            "Sum of elements in each row of arr3: [3 7]\n",
            "Matrix multiplication of arr3 and arr4 [[19 22]\n",
            " [43 50]]\n"
          ]
        }
      ]
    },
    {
      "cell_type": "code",
      "source": [
        "import numpy as np\n",
        "\n",
        "# Assuming arr1 from the previous code is defined\n",
        "# If not, uncomment the following line:\n",
        "# arr1 = np.array([1, 2, 3, 4, 5])\n",
        "\n",
        "# Mean\n",
        "mean_val = np.mean(arr1)\n",
        "print(\"Mean:\", mean_val)\n",
        "\n",
        "# Median\n",
        "median_val = np.median(arr1)\n",
        "print(\"Median:\", median_val)\n",
        "\n",
        "# Variance\n",
        "variance_val = np.var(arr1)\n",
        "print(\"Variance:\", variance_val)\n",
        "\n",
        "# Standard Deviation\n",
        "std_dev_val = np.std(arr1)\n",
        "print(\"Standard Deviation:\", std_dev_val)\n",
        "\n",
        "# Minimum\n",
        "min_val = np.min(arr1)\n",
        "print(\"Minimum:\", min_val)\n",
        "\n",
        "# Maximum\n",
        "max_val = np.max(arr1)\n",
        "print(\"Maximum:\", max_val)\n"
      ],
      "metadata": {
        "colab": {
          "base_uri": "https://localhost:8080/"
        },
        "id": "-oGTzGt2uW4s",
        "outputId": "838d49c9-3284-40d1-8538-b26d5b4d9e72"
      },
      "execution_count": null,
      "outputs": [
        {
          "output_type": "stream",
          "name": "stdout",
          "text": [
            "Mean: 3.0\n",
            "Median: 3.0\n",
            "Variance: 2.0\n",
            "Standard Deviation: 1.4142135623730951\n",
            "Minimum: 1\n",
            "Maximum: 5\n"
          ]
        }
      ]
    },
    {
      "cell_type": "code",
      "source": [
        "\n",
        "import numpy as np\n",
        "\n",
        "# Example matrices\n",
        "matrix_a = np.array([[1, 2], [3, 4]])\n",
        "matrix_b = np.array([[5, 6], [7, 8]])\n",
        "\n",
        "# Dot product\n",
        "dot_product_result = np.dot(matrix_a, matrix_b)\n",
        "print(\"Dot Product:\\n\", dot_product_result)\n",
        "\n",
        "# Inverse (only for square matrices)\n",
        "try:\n",
        "  inverse_a = np.linalg.inv(matrix_a)\n",
        "  print(\"Inverse of matrix_a:\\n\", inverse_a)\n",
        "except np.linalg.LinAlgError:\n",
        "  print(\"Matrix_a is singular and does not have an inverse.\")\n",
        "\n",
        "# Determinant (only for square matrices)\n",
        "determinant_a = np.linalg.det(matrix_a)\n",
        "print(\"Determinant of matrix_a:\", determinant_a)\n"
      ],
      "metadata": {
        "colab": {
          "base_uri": "https://localhost:8080/"
        },
        "id": "gs16Is2ewcmg",
        "outputId": "0954149d-9479-4e46-d897-c419bba5cfed"
      },
      "execution_count": null,
      "outputs": [
        {
          "output_type": "stream",
          "name": "stdout",
          "text": [
            "Dot Product:\n",
            " [[19 22]\n",
            " [43 50]]\n",
            "Inverse of matrix_a:\n",
            " [[-2.   1. ]\n",
            " [ 1.5 -0.5]]\n",
            "Determinant of matrix_a: -2.0000000000000004\n"
          ]
        }
      ]
    },
    {
      "cell_type": "code",
      "source": [
        "# Boolean & Comparison operations\n",
        "\n",
        "comparison_arr = np.greater(arr1, 3)\n",
        "where_condition = np.where(arr1>3)\n",
        "\n",
        "print(comparison_arr)\n",
        "print(where_condition)"
      ],
      "metadata": {
        "colab": {
          "base_uri": "https://localhost:8080/"
        },
        "id": "38LeqXZWxDRI",
        "outputId": "3791b855-0931-4f9f-d80d-0c78872f9d28"
      },
      "execution_count": null,
      "outputs": [
        {
          "output_type": "stream",
          "name": "stdout",
          "text": [
            "[False False False  True  True]\n",
            "(array([3, 4]),)\n"
          ]
        }
      ]
    },
    {
      "cell_type": "code",
      "source": [
        "import numpy as np\n",
        "\n",
        "# Assuming arr1 from the previous code is defined\n",
        "# If not, uncomment the following line:\n",
        "# arr1 = np.array([1, 2, 3, 4, 5])\n",
        "\n",
        "# Sorting\n",
        "sorted_arr = np.sort(arr1)\n",
        "print(\"Sorted array:\", sorted_arr)\n",
        "\n",
        "# Finding minimum and maximum\n",
        "min_val = np.min(arr1)\n",
        "max_val = np.max(arr1)\n",
        "print(\"Minimum value:\", min_val)\n",
        "print(\"Maximum value:\", max_val)\n",
        "\n",
        "# Finding unique elements\n",
        "unique_elements = np.unique(arr1)\n",
        "print(\"Unique elements:\", unique_elements)\n",
        "\n",
        "# Searching (example: finding the index of a specific element)\n",
        "element_to_find = 3\n",
        "index = np.where(arr1 == element_to_find)\n",
        "print(f\"Index of {element_to_find}:\", index)\n"
      ],
      "metadata": {
        "colab": {
          "base_uri": "https://localhost:8080/"
        },
        "id": "Avpn66mQySDK",
        "outputId": "a9899264-4739-4a98-f56b-d59604bbbc54"
      },
      "execution_count": null,
      "outputs": [
        {
          "output_type": "stream",
          "name": "stdout",
          "text": [
            "Sorted array: [1 2 3 4 5]\n",
            "Minimum value: 1\n",
            "Maximum value: 5\n",
            "Unique elements: [1 2 3 4 5]\n",
            "Index of 3: (array([2]),)\n"
          ]
        }
      ]
    },
    {
      "cell_type": "code",
      "source": [
        "np.random.seed(42)\n",
        "random_ints = np.random.randint(1, 10, (3,3))\n",
        "random_choice = np.random.choice(arr1, 3)\n",
        "print(random_ints)\n",
        "print(random_choice)"
      ],
      "metadata": {
        "colab": {
          "base_uri": "https://localhost:8080/"
        },
        "id": "cEP3AmqoyhC7",
        "outputId": "257234a6-4556-4e8b-ba0e-a430bf7d7158"
      },
      "execution_count": null,
      "outputs": [
        {
          "output_type": "stream",
          "name": "stdout",
          "text": [
            "[[7 4 8]\n",
            " [5 7 3]\n",
            " [7 8 5]]\n",
            "[4 3 5]\n"
          ]
        }
      ]
    }
  ]
}