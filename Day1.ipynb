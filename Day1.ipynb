{
  "nbformat": 4,
  "nbformat_minor": 0,
  "metadata": {
    "colab": {
      "provenance": [],
      "authorship_tag": "ABX9TyMwa31X3CQ9dO3uxk7SA4EE",
      "include_colab_link": true
    },
    "kernelspec": {
      "name": "python3",
      "display_name": "Python 3"
    },
    "language_info": {
      "name": "python"
    }
  },
  "cells": [
    {
      "cell_type": "markdown",
      "metadata": {
        "id": "view-in-github",
        "colab_type": "text"
      },
      "source": [
        "<a href=\"https://colab.research.google.com/github/aezamsos/data-statistics-analytics-python/blob/main/Day1.ipynb\" target=\"_parent\"><img src=\"https://colab.research.google.com/assets/colab-badge.svg\" alt=\"Open In Colab\"/></a>"
      ]
    },
    {
      "cell_type": "code",
      "execution_count": null,
      "metadata": {
        "colab": {
          "base_uri": "https://localhost:8080/"
        },
        "id": "lUNNZ1wOLP57",
        "outputId": "b29ca046-061e-4327-8a09-bf0b9dbd5e72"
      },
      "outputs": [
        {
          "output_type": "stream",
          "name": "stdout",
          "text": [
            "Temperature: 30.1\n"
          ]
        }
      ],
      "source": [
        "temperature = 30.1\n",
        "print(\"Temperature:\", temperature)"
      ]
    },
    {
      "cell_type": "code",
      "source": [
        "temperature = 30.1\n",
        "print(\"Temperature:\", temperature)\n",
        "\n",
        "my_list = [1, 2, 3, 4, 5]\n",
        "my_list\n"
      ],
      "metadata": {
        "colab": {
          "base_uri": "https://localhost:8080/"
        },
        "id": "dyayse1IL2PH",
        "outputId": "5cf11d76-e49f-484f-9733-397e8413be3b"
      },
      "execution_count": null,
      "outputs": [
        {
          "output_type": "stream",
          "name": "stdout",
          "text": [
            "Temperature: 30.1\n"
          ]
        },
        {
          "output_type": "execute_result",
          "data": {
            "text/plain": [
              "[1, 2, 3, 4, 5]"
            ]
          },
          "metadata": {},
          "execution_count": 2
        }
      ]
    },
    {
      "cell_type": "code",
      "source": [
        "my_tuple = (1, 2, 3, 4, 5)\n",
        "my_tuple\n"
      ],
      "metadata": {
        "colab": {
          "base_uri": "https://localhost:8080/"
        },
        "id": "Oe-wNJkkR8as",
        "outputId": "427e9d2f-6b95-4722-d9d5-ccc6f7dae922"
      },
      "execution_count": null,
      "outputs": [
        {
          "output_type": "execute_result",
          "data": {
            "text/plain": [
              "(1, 2, 3, 4, 5)"
            ]
          },
          "metadata": {},
          "execution_count": 3
        }
      ]
    },
    {
      "cell_type": "code",
      "source": [
        "is_active = True  # Boolean variable, set to True\n",
        "print(\"Is active?\", is_active)\n",
        "\n",
        "is_valid = False  # Boolean variable, set to False\n",
        "print(\"Is valid?\", is_valid)\n"
      ],
      "metadata": {
        "colab": {
          "base_uri": "https://localhost:8080/"
        },
        "id": "2X5wImtlSCk7",
        "outputId": "8de842e0-11fb-47bb-aeba-1cbea749d8b1"
      },
      "execution_count": null,
      "outputs": [
        {
          "output_type": "stream",
          "name": "stdout",
          "text": [
            "Is active? True\n",
            "Is valid? False\n"
          ]
        }
      ]
    },
    {
      "cell_type": "code",
      "source": [
        "my_frozenset = frozenset([1, 2, 3, 4, 5])\n",
        "print(my_frozenset)\n",
        "print(type(my_frozenset))\n"
      ],
      "metadata": {
        "colab": {
          "base_uri": "https://localhost:8080/"
        },
        "id": "7vCKrZo6WC6i",
        "outputId": "1cbdee5e-31eb-4324-bcf8-afee0bea7974"
      },
      "execution_count": null,
      "outputs": [
        {
          "output_type": "stream",
          "name": "stdout",
          "text": [
            "frozenset({1, 2, 3, 4, 5})\n",
            "<class 'frozenset'>\n"
          ]
        }
      ]
    },
    {
      "cell_type": "code",
      "source": [
        "#convert T-C-F: dated: 07-02-2025\n",
        "input_of_Celsius = input(\"Enter temperature in Celsius: \")\n",
        "fahrenheit = (celsius * 9/5) + 32\n",
        "print(\"Temperature in Fahrenheit:\", fahrenheit)"
      ],
      "metadata": {
        "colab": {
          "base_uri": "https://localhost:8080/"
        },
        "id": "YCgjRpN9WeLp",
        "outputId": "67c29be4-e95b-4a4f-87b8-5b831ccd9121"
      },
      "execution_count": null,
      "outputs": [
        {
          "output_type": "stream",
          "name": "stdout",
          "text": [
            "Enter temperature in Celsius: 88\n",
            "Temperature in Fahrenheit: 77.0\n"
          ]
        }
      ]
    },
    {
      "cell_type": "code",
      "source": [
        "#convert T-C-F: dated: 07-02-2025\n",
        "input_of_Celsius = input(\"Enter temperature in Celsius: \")\n",
        "try:\n",
        "    celsius = float(input_of_Celsius)\n",
        "    fahrenheit = (celsius * 9/5) + 32\n",
        "    print(\"Temperature in Fahrenheit:\", fahrenheit)\n",
        "except ValueError:\n",
        "    print(\"Invalid input. Please enter a number for the temperature.\")\n"
      ],
      "metadata": {
        "colab": {
          "base_uri": "https://localhost:8080/"
        },
        "id": "aigsWl9nYoLg",
        "outputId": "8fd672d2-68b7-4e3e-b844-098f9465529b"
      },
      "execution_count": null,
      "outputs": [
        {
          "output_type": "stream",
          "name": "stdout",
          "text": [
            "Enter temperature in Celsius: 30\n",
            "Temperature in Fahrenheit: 86.0\n"
          ]
        }
      ]
    }
  ]
}